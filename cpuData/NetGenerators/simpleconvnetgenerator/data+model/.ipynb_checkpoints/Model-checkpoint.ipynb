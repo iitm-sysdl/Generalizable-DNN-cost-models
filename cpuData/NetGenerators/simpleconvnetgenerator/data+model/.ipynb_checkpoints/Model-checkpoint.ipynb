{
 "cells": [
  {
   "cell_type": "code",
   "execution_count": 1,
   "metadata": {},
   "outputs": [],
   "source": [
    "import numpy as np\n",
    "from matplotlib import pyplot as plt \n",
    "from numpy import genfromtxt\n",
    "import csv\n",
    "import torch\n",
    "import torchvision"
   ]
  },
  {
   "cell_type": "code",
   "execution_count": 18,
   "metadata": {},
   "outputs": [
    {
     "name": "stdout",
     "output_type": "stream",
     "text": [
      "(510, 10)\n"
     ]
    }
   ],
   "source": [
    "with open('21/1layer.csv', 'r') as f:\n",
    "  reader = csv.reader(f)\n",
    "  d = list(reader)\n",
    "d = d[1:]\n",
    "d = np.asarray(d, dtype=float)\n",
    "#print(d.shape)\n",
    "#print(d[100])\n",
    "onelayerdata = np.zeros((d.shape[0], d.shape[1]+2), dtype=float)\n",
    "onelayerdata[:,:6]=d[:,:6]\n",
    "onelayerdata[:,8:10]=d[:,6:9]\n",
    "print(onelayerdata.shape)\n",
    "#print(onelayerdata[100])"
   ]
  },
  {
   "cell_type": "code",
   "execution_count": null,
   "metadata": {},
   "outputs": [],
   "source": []
  },
  {
   "cell_type": "code",
   "execution_count": null,
   "metadata": {},
   "outputs": [],
   "source": []
  }
 ],
 "metadata": {
  "kernelspec": {
   "display_name": "Python 3.7.4 64-bit ('base': conda)",
   "language": "python",
   "name": "python37464bitbaseconda4b3cf51467874e16af08565d95eb07c9"
  },
  "language_info": {
   "codemirror_mode": {
    "name": "ipython",
    "version": 3
   },
   "file_extension": ".py",
   "mimetype": "text/x-python",
   "name": "python",
   "nbconvert_exporter": "python",
   "pygments_lexer": "ipython3",
   "version": "3.7.4"
  }
 },
 "nbformat": 4,
 "nbformat_minor": 2
}
